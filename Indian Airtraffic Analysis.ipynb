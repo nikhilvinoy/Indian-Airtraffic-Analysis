{
 "cells": [
  {
   "cell_type": "markdown",
   "metadata": {},
   "source": [
    "# Airtraffic Analysis - India "
   ]
  },
  {
   "cell_type": "code",
   "execution_count": null,
   "metadata": {},
   "outputs": [],
   "source": [
    "import pandas as pd\n",
    "import numpy as np\n",
    "import matplotlib.pyplot as plt\n",
    "import seaborn as sns"
   ]
  },
  {
   "cell_type": "code",
   "execution_count": 137,
   "metadata": {},
   "outputs": [],
   "source": [
    "air_df = pd.read_csv(r\"C:\\Users\\GODFATHER\\Desktop\\Data Analytics\\Airport\\Airlinewise.csv\")"
   ]
  },
  {
   "cell_type": "code",
   "execution_count": 138,
   "metadata": {},
   "outputs": [
    {
     "data": {
      "text/html": [
       "<div>\n",
       "<style scoped>\n",
       "    .dataframe tbody tr th:only-of-type {\n",
       "        vertical-align: middle;\n",
       "    }\n",
       "\n",
       "    .dataframe tbody tr th {\n",
       "        vertical-align: top;\n",
       "    }\n",
       "\n",
       "    .dataframe thead th {\n",
       "        text-align: right;\n",
       "    }\n",
       "</style>\n",
       "<table border=\"1\" class=\"dataframe\">\n",
       "  <thead>\n",
       "    <tr style=\"text-align: right;\">\n",
       "      <th></th>\n",
       "      <th>YEAR</th>\n",
       "      <th>MONTH</th>\n",
       "      <th>QUARTER</th>\n",
       "      <th>AIRLINE NAME</th>\n",
       "      <th>CARRIER TYPE</th>\n",
       "      <th>PASSENGERS TO INDIA</th>\n",
       "      <th>PASSENGERS FROM INDIA</th>\n",
       "      <th>FREIGHT TO INDIA</th>\n",
       "      <th>FREIGHT FROM INDIA</th>\n",
       "    </tr>\n",
       "  </thead>\n",
       "  <tbody>\n",
       "    <tr>\n",
       "      <th>2329</th>\n",
       "      <td>2017</td>\n",
       "      <td>MAR</td>\n",
       "      <td>Q1</td>\n",
       "      <td>UNITED PARCEL SERVICES</td>\n",
       "      <td>FOREIGN</td>\n",
       "      <td>0.0</td>\n",
       "      <td>0</td>\n",
       "      <td>646.8</td>\n",
       "      <td>433.1</td>\n",
       "    </tr>\n",
       "    <tr>\n",
       "      <th>2330</th>\n",
       "      <td>2017</td>\n",
       "      <td>MAR</td>\n",
       "      <td>Q1</td>\n",
       "      <td>US BANGLA AIRLINES</td>\n",
       "      <td>FOREIGN</td>\n",
       "      <td>4597.0</td>\n",
       "      <td>4595</td>\n",
       "      <td>0.0</td>\n",
       "      <td>0.0</td>\n",
       "    </tr>\n",
       "    <tr>\n",
       "      <th>2331</th>\n",
       "      <td>2017</td>\n",
       "      <td>MAR</td>\n",
       "      <td>Q1</td>\n",
       "      <td>UZBEKISTAN AIRWAYS</td>\n",
       "      <td>FOREIGN</td>\n",
       "      <td>4311.0</td>\n",
       "      <td>5048</td>\n",
       "      <td>386.3</td>\n",
       "      <td>494.9</td>\n",
       "    </tr>\n",
       "    <tr>\n",
       "      <th>2332</th>\n",
       "      <td>2017</td>\n",
       "      <td>MAR</td>\n",
       "      <td>Q1</td>\n",
       "      <td>VIRGIN ATLANTIC AIRLINES</td>\n",
       "      <td>FOREIGN</td>\n",
       "      <td>7131.0</td>\n",
       "      <td>7810</td>\n",
       "      <td>236.7</td>\n",
       "      <td>513.8</td>\n",
       "    </tr>\n",
       "    <tr>\n",
       "      <th>2333</th>\n",
       "      <td>2017</td>\n",
       "      <td>MAR</td>\n",
       "      <td>Q1</td>\n",
       "      <td>YEMENIA AIRWAYS</td>\n",
       "      <td>FOREIGN</td>\n",
       "      <td>622.0</td>\n",
       "      <td>715</td>\n",
       "      <td>0.0</td>\n",
       "      <td>6.3</td>\n",
       "    </tr>\n",
       "  </tbody>\n",
       "</table>\n",
       "</div>"
      ],
      "text/plain": [
       "      YEAR MONTH QUARTER              AIRLINE NAME CARRIER TYPE  \\\n",
       "2329  2017   MAR      Q1    UNITED PARCEL SERVICES      FOREIGN   \n",
       "2330  2017   MAR      Q1        US BANGLA AIRLINES      FOREIGN   \n",
       "2331  2017   MAR      Q1        UZBEKISTAN AIRWAYS      FOREIGN   \n",
       "2332  2017   MAR      Q1  VIRGIN ATLANTIC AIRLINES      FOREIGN   \n",
       "2333  2017   MAR      Q1           YEMENIA AIRWAYS      FOREIGN   \n",
       "\n",
       "      PASSENGERS TO INDIA  PASSENGERS FROM INDIA  FREIGHT TO INDIA  \\\n",
       "2329                  0.0                      0             646.8   \n",
       "2330               4597.0                   4595               0.0   \n",
       "2331               4311.0                   5048             386.3   \n",
       "2332               7131.0                   7810             236.7   \n",
       "2333                622.0                    715               0.0   \n",
       "\n",
       "      FREIGHT FROM INDIA  \n",
       "2329               433.1  \n",
       "2330                 0.0  \n",
       "2331               494.9  \n",
       "2332               513.8  \n",
       "2333                 6.3  "
      ]
     },
     "execution_count": 138,
     "metadata": {},
     "output_type": "execute_result"
    }
   ],
   "source": [
    "air_df.tail()"
   ]
  },
  {
   "cell_type": "code",
   "execution_count": 18,
   "metadata": {},
   "outputs": [],
   "source": [
    "df_airlines = air_df.groupby(['YEAR', 'AIRLINE NAME'])['PASSENGERS TO INDIA', 'PASSENGERS FROM INDIA'].sum().reset_index()"
   ]
  },
  {
   "cell_type": "code",
   "execution_count": 65,
   "metadata": {},
   "outputs": [
    {
     "data": {
      "text/html": [
       "<div>\n",
       "<style scoped>\n",
       "    .dataframe tbody tr th:only-of-type {\n",
       "        vertical-align: middle;\n",
       "    }\n",
       "\n",
       "    .dataframe tbody tr th {\n",
       "        vertical-align: top;\n",
       "    }\n",
       "\n",
       "    .dataframe thead th {\n",
       "        text-align: right;\n",
       "    }\n",
       "</style>\n",
       "<table border=\"1\" class=\"dataframe\">\n",
       "  <thead>\n",
       "    <tr style=\"text-align: right;\">\n",
       "      <th></th>\n",
       "      <th>YEAR</th>\n",
       "      <th>AIRLINE NAME</th>\n",
       "      <th>PASSENGERS TO INDIA</th>\n",
       "      <th>PASSENGERS FROM INDIA</th>\n",
       "      <th>TOTAL</th>\n",
       "    </tr>\n",
       "  </thead>\n",
       "  <tbody>\n",
       "    <tr>\n",
       "      <th>0</th>\n",
       "      <td>2015</td>\n",
       "      <td>AEROFLOT</td>\n",
       "      <td>65814.0</td>\n",
       "      <td>73123</td>\n",
       "      <td>138937.0</td>\n",
       "    </tr>\n",
       "    <tr>\n",
       "      <th>1</th>\n",
       "      <td>2015</td>\n",
       "      <td>AEROLOGIC</td>\n",
       "      <td>0.0</td>\n",
       "      <td>0</td>\n",
       "      <td>0.0</td>\n",
       "    </tr>\n",
       "    <tr>\n",
       "      <th>2</th>\n",
       "      <td>2015</td>\n",
       "      <td>AIR ARABIA</td>\n",
       "      <td>867826.0</td>\n",
       "      <td>904587</td>\n",
       "      <td>1772413.0</td>\n",
       "    </tr>\n",
       "    <tr>\n",
       "      <th>3</th>\n",
       "      <td>2015</td>\n",
       "      <td>AIR ASIA BERHAD</td>\n",
       "      <td>271537.0</td>\n",
       "      <td>267034</td>\n",
       "      <td>538571.0</td>\n",
       "    </tr>\n",
       "    <tr>\n",
       "      <th>4</th>\n",
       "      <td>2015</td>\n",
       "      <td>AIR ASTANA</td>\n",
       "      <td>25448.0</td>\n",
       "      <td>27541</td>\n",
       "      <td>52989.0</td>\n",
       "    </tr>\n",
       "    <tr>\n",
       "      <th>5</th>\n",
       "      <td>2015</td>\n",
       "      <td>AIR AUSTRAL</td>\n",
       "      <td>1837.0</td>\n",
       "      <td>1824</td>\n",
       "      <td>3661.0</td>\n",
       "    </tr>\n",
       "    <tr>\n",
       "      <th>6</th>\n",
       "      <td>2015</td>\n",
       "      <td>AIR CANADA</td>\n",
       "      <td>9532.0</td>\n",
       "      <td>8077</td>\n",
       "      <td>17609.0</td>\n",
       "    </tr>\n",
       "    <tr>\n",
       "      <th>7</th>\n",
       "      <td>2015</td>\n",
       "      <td>AIR CHINA</td>\n",
       "      <td>37993.0</td>\n",
       "      <td>41280</td>\n",
       "      <td>79273.0</td>\n",
       "    </tr>\n",
       "    <tr>\n",
       "      <th>8</th>\n",
       "      <td>2015</td>\n",
       "      <td>AIR FRANCE</td>\n",
       "      <td>183593.0</td>\n",
       "      <td>203328</td>\n",
       "      <td>386921.0</td>\n",
       "    </tr>\n",
       "    <tr>\n",
       "      <th>9</th>\n",
       "      <td>2015</td>\n",
       "      <td>AIR INDIA</td>\n",
       "      <td>2804989.0</td>\n",
       "      <td>2846774</td>\n",
       "      <td>5651763.0</td>\n",
       "    </tr>\n",
       "    <tr>\n",
       "      <th>10</th>\n",
       "      <td>2015</td>\n",
       "      <td>AIR INDIA EXPRESS</td>\n",
       "      <td>1210488.0</td>\n",
       "      <td>1364578</td>\n",
       "      <td>2575066.0</td>\n",
       "    </tr>\n",
       "    <tr>\n",
       "      <th>11</th>\n",
       "      <td>2015</td>\n",
       "      <td>AIR MANAS</td>\n",
       "      <td>6858.0</td>\n",
       "      <td>7238</td>\n",
       "      <td>14096.0</td>\n",
       "    </tr>\n",
       "    <tr>\n",
       "      <th>12</th>\n",
       "      <td>2015</td>\n",
       "      <td>AIR MAURITIUS</td>\n",
       "      <td>82560.0</td>\n",
       "      <td>86082</td>\n",
       "      <td>168642.0</td>\n",
       "    </tr>\n",
       "    <tr>\n",
       "      <th>13</th>\n",
       "      <td>2015</td>\n",
       "      <td>AIR SEYCHELLES</td>\n",
       "      <td>18619.0</td>\n",
       "      <td>18098</td>\n",
       "      <td>36717.0</td>\n",
       "    </tr>\n",
       "    <tr>\n",
       "      <th>14</th>\n",
       "      <td>2015</td>\n",
       "      <td>ALL NIPPON AIRWAYS</td>\n",
       "      <td>45378.0</td>\n",
       "      <td>58242</td>\n",
       "      <td>103620.0</td>\n",
       "    </tr>\n",
       "    <tr>\n",
       "      <th>15</th>\n",
       "      <td>2015</td>\n",
       "      <td>ARIANA AFGHAN</td>\n",
       "      <td>18600.0</td>\n",
       "      <td>20318</td>\n",
       "      <td>38918.0</td>\n",
       "    </tr>\n",
       "    <tr>\n",
       "      <th>16</th>\n",
       "      <td>2015</td>\n",
       "      <td>ASIANA AIRLINES</td>\n",
       "      <td>32896.0</td>\n",
       "      <td>34525</td>\n",
       "      <td>67421.0</td>\n",
       "    </tr>\n",
       "    <tr>\n",
       "      <th>17</th>\n",
       "      <td>2015</td>\n",
       "      <td>AUSTRIAN AIRLINES</td>\n",
       "      <td>54211.0</td>\n",
       "      <td>60198</td>\n",
       "      <td>114409.0</td>\n",
       "    </tr>\n",
       "    <tr>\n",
       "      <th>18</th>\n",
       "      <td>2015</td>\n",
       "      <td>BANGKOK AIRWAYS</td>\n",
       "      <td>44205.0</td>\n",
       "      <td>45004</td>\n",
       "      <td>89209.0</td>\n",
       "    </tr>\n",
       "    <tr>\n",
       "      <th>19</th>\n",
       "      <td>2015</td>\n",
       "      <td>BHUTAN AIRLINES</td>\n",
       "      <td>18369.0</td>\n",
       "      <td>17645</td>\n",
       "      <td>36014.0</td>\n",
       "    </tr>\n",
       "    <tr>\n",
       "      <th>20</th>\n",
       "      <td>2015</td>\n",
       "      <td>BIMAN BANGLADESH</td>\n",
       "      <td>45365.0</td>\n",
       "      <td>53276</td>\n",
       "      <td>98641.0</td>\n",
       "    </tr>\n",
       "    <tr>\n",
       "      <th>21</th>\n",
       "      <td>2015</td>\n",
       "      <td>BRITISH AIRWAYS</td>\n",
       "      <td>399306.0</td>\n",
       "      <td>453521</td>\n",
       "      <td>852827.0</td>\n",
       "    </tr>\n",
       "    <tr>\n",
       "      <th>22</th>\n",
       "      <td>2015</td>\n",
       "      <td>BUDHHA AIR</td>\n",
       "      <td>703.0</td>\n",
       "      <td>773</td>\n",
       "      <td>1476.0</td>\n",
       "    </tr>\n",
       "    <tr>\n",
       "      <th>23</th>\n",
       "      <td>2015</td>\n",
       "      <td>CATHAY PACIFIC</td>\n",
       "      <td>392095.0</td>\n",
       "      <td>408225</td>\n",
       "      <td>800320.0</td>\n",
       "    </tr>\n",
       "    <tr>\n",
       "      <th>24</th>\n",
       "      <td>2015</td>\n",
       "      <td>CHINA AIRLINES LTD</td>\n",
       "      <td>14927.0</td>\n",
       "      <td>53533</td>\n",
       "      <td>68460.0</td>\n",
       "    </tr>\n",
       "    <tr>\n",
       "      <th>25</th>\n",
       "      <td>2015</td>\n",
       "      <td>CHINA EASTERN AIRLINES</td>\n",
       "      <td>88688.0</td>\n",
       "      <td>88925</td>\n",
       "      <td>177613.0</td>\n",
       "    </tr>\n",
       "    <tr>\n",
       "      <th>26</th>\n",
       "      <td>2015</td>\n",
       "      <td>CHINA SOUTHERN</td>\n",
       "      <td>73617.0</td>\n",
       "      <td>77060</td>\n",
       "      <td>150677.0</td>\n",
       "    </tr>\n",
       "    <tr>\n",
       "      <th>27</th>\n",
       "      <td>2015</td>\n",
       "      <td>DELTA AIRLINES</td>\n",
       "      <td>22640.0</td>\n",
       "      <td>23140</td>\n",
       "      <td>45780.0</td>\n",
       "    </tr>\n",
       "    <tr>\n",
       "      <th>28</th>\n",
       "      <td>2015</td>\n",
       "      <td>DRAGON AIR</td>\n",
       "      <td>89828.0</td>\n",
       "      <td>87604</td>\n",
       "      <td>177432.0</td>\n",
       "    </tr>\n",
       "    <tr>\n",
       "      <th>29</th>\n",
       "      <td>2015</td>\n",
       "      <td>DRUK AIR</td>\n",
       "      <td>38667.0</td>\n",
       "      <td>35182</td>\n",
       "      <td>73849.0</td>\n",
       "    </tr>\n",
       "    <tr>\n",
       "      <th>...</th>\n",
       "      <td>...</td>\n",
       "      <td>...</td>\n",
       "      <td>...</td>\n",
       "      <td>...</td>\n",
       "      <td>...</td>\n",
       "    </tr>\n",
       "    <tr>\n",
       "      <th>247</th>\n",
       "      <td>2017</td>\n",
       "      <td>PAK INTERNATIONAL</td>\n",
       "      <td>2122.0</td>\n",
       "      <td>3030</td>\n",
       "      <td>5152.0</td>\n",
       "    </tr>\n",
       "    <tr>\n",
       "      <th>248</th>\n",
       "      <td>2017</td>\n",
       "      <td>QATAR AIRWAYS</td>\n",
       "      <td>256011.0</td>\n",
       "      <td>270968</td>\n",
       "      <td>526979.0</td>\n",
       "    </tr>\n",
       "    <tr>\n",
       "      <th>249</th>\n",
       "      <td>2017</td>\n",
       "      <td>REGENT AIRWAYS</td>\n",
       "      <td>28254.0</td>\n",
       "      <td>27887</td>\n",
       "      <td>56141.0</td>\n",
       "    </tr>\n",
       "    <tr>\n",
       "      <th>250</th>\n",
       "      <td>2017</td>\n",
       "      <td>ROSSIYA AIRLINES</td>\n",
       "      <td>26094.0</td>\n",
       "      <td>26100</td>\n",
       "      <td>52194.0</td>\n",
       "    </tr>\n",
       "    <tr>\n",
       "      <th>251</th>\n",
       "      <td>2017</td>\n",
       "      <td>SAFI AIRWAYS</td>\n",
       "      <td>9944.0</td>\n",
       "      <td>9298</td>\n",
       "      <td>19242.0</td>\n",
       "    </tr>\n",
       "    <tr>\n",
       "      <th>252</th>\n",
       "      <td>2017</td>\n",
       "      <td>SAUDIA</td>\n",
       "      <td>180998.0</td>\n",
       "      <td>190302</td>\n",
       "      <td>371300.0</td>\n",
       "    </tr>\n",
       "    <tr>\n",
       "      <th>253</th>\n",
       "      <td>2017</td>\n",
       "      <td>SCAT AIRLINES</td>\n",
       "      <td>3015.0</td>\n",
       "      <td>3419</td>\n",
       "      <td>6434.0</td>\n",
       "    </tr>\n",
       "    <tr>\n",
       "      <th>254</th>\n",
       "      <td>2017</td>\n",
       "      <td>SCOOT PTE LTD.</td>\n",
       "      <td>34952.0</td>\n",
       "      <td>33053</td>\n",
       "      <td>68005.0</td>\n",
       "    </tr>\n",
       "    <tr>\n",
       "      <th>255</th>\n",
       "      <td>2017</td>\n",
       "      <td>SHANDONG AIRLINES</td>\n",
       "      <td>5380.0</td>\n",
       "      <td>5953</td>\n",
       "      <td>11333.0</td>\n",
       "    </tr>\n",
       "    <tr>\n",
       "      <th>256</th>\n",
       "      <td>2017</td>\n",
       "      <td>SILK AIR</td>\n",
       "      <td>49719.0</td>\n",
       "      <td>70591</td>\n",
       "      <td>120310.0</td>\n",
       "    </tr>\n",
       "    <tr>\n",
       "      <th>257</th>\n",
       "      <td>2017</td>\n",
       "      <td>SINGAPORE AIRLINES</td>\n",
       "      <td>135212.0</td>\n",
       "      <td>155065</td>\n",
       "      <td>290277.0</td>\n",
       "    </tr>\n",
       "    <tr>\n",
       "      <th>258</th>\n",
       "      <td>2017</td>\n",
       "      <td>SPICEJET</td>\n",
       "      <td>212884.0</td>\n",
       "      <td>223537</td>\n",
       "      <td>436421.0</td>\n",
       "    </tr>\n",
       "    <tr>\n",
       "      <th>259</th>\n",
       "      <td>2017</td>\n",
       "      <td>SRILNKAN AIRWAYS</td>\n",
       "      <td>157254.0</td>\n",
       "      <td>159034</td>\n",
       "      <td>316288.0</td>\n",
       "    </tr>\n",
       "    <tr>\n",
       "      <th>260</th>\n",
       "      <td>2017</td>\n",
       "      <td>SWISS AIR</td>\n",
       "      <td>30884.0</td>\n",
       "      <td>39354</td>\n",
       "      <td>70238.0</td>\n",
       "    </tr>\n",
       "    <tr>\n",
       "      <th>261</th>\n",
       "      <td>2017</td>\n",
       "      <td>TAJIK AIR</td>\n",
       "      <td>1110.0</td>\n",
       "      <td>1172</td>\n",
       "      <td>2282.0</td>\n",
       "    </tr>\n",
       "    <tr>\n",
       "      <th>262</th>\n",
       "      <td>2017</td>\n",
       "      <td>THAI AIR ASIA</td>\n",
       "      <td>40209.0</td>\n",
       "      <td>40996</td>\n",
       "      <td>81205.0</td>\n",
       "    </tr>\n",
       "    <tr>\n",
       "      <th>263</th>\n",
       "      <td>2017</td>\n",
       "      <td>THAI AIRWAYS</td>\n",
       "      <td>168746.0</td>\n",
       "      <td>179524</td>\n",
       "      <td>348270.0</td>\n",
       "    </tr>\n",
       "    <tr>\n",
       "      <th>264</th>\n",
       "      <td>2017</td>\n",
       "      <td>THAI SMILE AIRWAYS</td>\n",
       "      <td>17598.0</td>\n",
       "      <td>15964</td>\n",
       "      <td>33562.0</td>\n",
       "    </tr>\n",
       "    <tr>\n",
       "      <th>265</th>\n",
       "      <td>2017</td>\n",
       "      <td>THOMAS COOK AIRLINES U.K.</td>\n",
       "      <td>0.0</td>\n",
       "      <td>0</td>\n",
       "      <td>0.0</td>\n",
       "    </tr>\n",
       "    <tr>\n",
       "      <th>266</th>\n",
       "      <td>2017</td>\n",
       "      <td>TIGER AIRWAYS</td>\n",
       "      <td>60064.0</td>\n",
       "      <td>58773</td>\n",
       "      <td>118837.0</td>\n",
       "    </tr>\n",
       "    <tr>\n",
       "      <th>267</th>\n",
       "      <td>2017</td>\n",
       "      <td>TRANSAERO AIRLINES</td>\n",
       "      <td>0.0</td>\n",
       "      <td>0</td>\n",
       "      <td>0.0</td>\n",
       "    </tr>\n",
       "    <tr>\n",
       "      <th>268</th>\n",
       "      <td>2017</td>\n",
       "      <td>TURKISH AIRLINES</td>\n",
       "      <td>55231.0</td>\n",
       "      <td>64228</td>\n",
       "      <td>119459.0</td>\n",
       "    </tr>\n",
       "    <tr>\n",
       "      <th>269</th>\n",
       "      <td>2017</td>\n",
       "      <td>TURKMENISTAN AIRLINES</td>\n",
       "      <td>11531.0</td>\n",
       "      <td>11182</td>\n",
       "      <td>22713.0</td>\n",
       "    </tr>\n",
       "    <tr>\n",
       "      <th>270</th>\n",
       "      <td>2017</td>\n",
       "      <td>UNITED AIRLINES</td>\n",
       "      <td>40643.0</td>\n",
       "      <td>40259</td>\n",
       "      <td>80902.0</td>\n",
       "    </tr>\n",
       "    <tr>\n",
       "      <th>271</th>\n",
       "      <td>2017</td>\n",
       "      <td>UNITED AIRLINES BANGLADESH LTD.</td>\n",
       "      <td>0.0</td>\n",
       "      <td>0</td>\n",
       "      <td>0.0</td>\n",
       "    </tr>\n",
       "    <tr>\n",
       "      <th>272</th>\n",
       "      <td>2017</td>\n",
       "      <td>UNITED PARCEL SERVICES</td>\n",
       "      <td>0.0</td>\n",
       "      <td>0</td>\n",
       "      <td>0.0</td>\n",
       "    </tr>\n",
       "    <tr>\n",
       "      <th>273</th>\n",
       "      <td>2017</td>\n",
       "      <td>US BANGLA AIRLINES</td>\n",
       "      <td>8882.0</td>\n",
       "      <td>8808</td>\n",
       "      <td>17690.0</td>\n",
       "    </tr>\n",
       "    <tr>\n",
       "      <th>274</th>\n",
       "      <td>2017</td>\n",
       "      <td>UZBEKISTAN AIRWAYS</td>\n",
       "      <td>12585.0</td>\n",
       "      <td>14158</td>\n",
       "      <td>26743.0</td>\n",
       "    </tr>\n",
       "    <tr>\n",
       "      <th>275</th>\n",
       "      <td>2017</td>\n",
       "      <td>VIRGIN ATLANTIC AIRLINES</td>\n",
       "      <td>19134.0</td>\n",
       "      <td>20491</td>\n",
       "      <td>39625.0</td>\n",
       "    </tr>\n",
       "    <tr>\n",
       "      <th>276</th>\n",
       "      <td>2017</td>\n",
       "      <td>YEMENIA AIRWAYS</td>\n",
       "      <td>1676.0</td>\n",
       "      <td>1543</td>\n",
       "      <td>3219.0</td>\n",
       "    </tr>\n",
       "  </tbody>\n",
       "</table>\n",
       "<p>277 rows × 5 columns</p>\n",
       "</div>"
      ],
      "text/plain": [
       "     YEAR                     AIRLINE NAME  PASSENGERS TO INDIA  \\\n",
       "0    2015                         AEROFLOT              65814.0   \n",
       "1    2015                        AEROLOGIC                  0.0   \n",
       "2    2015                       AIR ARABIA             867826.0   \n",
       "3    2015                  AIR ASIA BERHAD             271537.0   \n",
       "4    2015                       AIR ASTANA              25448.0   \n",
       "5    2015                      AIR AUSTRAL               1837.0   \n",
       "6    2015                       AIR CANADA               9532.0   \n",
       "7    2015                        AIR CHINA              37993.0   \n",
       "8    2015                       AIR FRANCE             183593.0   \n",
       "9    2015                        AIR INDIA            2804989.0   \n",
       "10   2015                AIR INDIA EXPRESS            1210488.0   \n",
       "11   2015                        AIR MANAS               6858.0   \n",
       "12   2015                    AIR MAURITIUS              82560.0   \n",
       "13   2015                   AIR SEYCHELLES              18619.0   \n",
       "14   2015               ALL NIPPON AIRWAYS              45378.0   \n",
       "15   2015                    ARIANA AFGHAN              18600.0   \n",
       "16   2015                  ASIANA AIRLINES              32896.0   \n",
       "17   2015                AUSTRIAN AIRLINES              54211.0   \n",
       "18   2015                  BANGKOK AIRWAYS              44205.0   \n",
       "19   2015                  BHUTAN AIRLINES              18369.0   \n",
       "20   2015                 BIMAN BANGLADESH              45365.0   \n",
       "21   2015                  BRITISH AIRWAYS             399306.0   \n",
       "22   2015                       BUDHHA AIR                703.0   \n",
       "23   2015                   CATHAY PACIFIC             392095.0   \n",
       "24   2015               CHINA AIRLINES LTD              14927.0   \n",
       "25   2015           CHINA EASTERN AIRLINES              88688.0   \n",
       "26   2015                  CHINA SOUTHERN               73617.0   \n",
       "27   2015                   DELTA AIRLINES              22640.0   \n",
       "28   2015                       DRAGON AIR              89828.0   \n",
       "29   2015                         DRUK AIR              38667.0   \n",
       "..    ...                              ...                  ...   \n",
       "247  2017                PAK INTERNATIONAL               2122.0   \n",
       "248  2017                    QATAR AIRWAYS             256011.0   \n",
       "249  2017                   REGENT AIRWAYS              28254.0   \n",
       "250  2017                 ROSSIYA AIRLINES              26094.0   \n",
       "251  2017                     SAFI AIRWAYS               9944.0   \n",
       "252  2017                           SAUDIA             180998.0   \n",
       "253  2017                    SCAT AIRLINES               3015.0   \n",
       "254  2017                   SCOOT PTE LTD.              34952.0   \n",
       "255  2017                SHANDONG AIRLINES               5380.0   \n",
       "256  2017                         SILK AIR              49719.0   \n",
       "257  2017               SINGAPORE AIRLINES             135212.0   \n",
       "258  2017                         SPICEJET             212884.0   \n",
       "259  2017                 SRILNKAN AIRWAYS             157254.0   \n",
       "260  2017                        SWISS AIR              30884.0   \n",
       "261  2017                        TAJIK AIR               1110.0   \n",
       "262  2017                    THAI AIR ASIA              40209.0   \n",
       "263  2017                     THAI AIRWAYS             168746.0   \n",
       "264  2017               THAI SMILE AIRWAYS              17598.0   \n",
       "265  2017        THOMAS COOK AIRLINES U.K.                  0.0   \n",
       "266  2017                    TIGER AIRWAYS              60064.0   \n",
       "267  2017               TRANSAERO AIRLINES                  0.0   \n",
       "268  2017                 TURKISH AIRLINES              55231.0   \n",
       "269  2017            TURKMENISTAN AIRLINES              11531.0   \n",
       "270  2017                  UNITED AIRLINES              40643.0   \n",
       "271  2017  UNITED AIRLINES BANGLADESH LTD.                  0.0   \n",
       "272  2017           UNITED PARCEL SERVICES                  0.0   \n",
       "273  2017               US BANGLA AIRLINES               8882.0   \n",
       "274  2017               UZBEKISTAN AIRWAYS              12585.0   \n",
       "275  2017         VIRGIN ATLANTIC AIRLINES              19134.0   \n",
       "276  2017                  YEMENIA AIRWAYS               1676.0   \n",
       "\n",
       "     PASSENGERS FROM INDIA      TOTAL  \n",
       "0                    73123   138937.0  \n",
       "1                        0        0.0  \n",
       "2                   904587  1772413.0  \n",
       "3                   267034   538571.0  \n",
       "4                    27541    52989.0  \n",
       "5                     1824     3661.0  \n",
       "6                     8077    17609.0  \n",
       "7                    41280    79273.0  \n",
       "8                   203328   386921.0  \n",
       "9                  2846774  5651763.0  \n",
       "10                 1364578  2575066.0  \n",
       "11                    7238    14096.0  \n",
       "12                   86082   168642.0  \n",
       "13                   18098    36717.0  \n",
       "14                   58242   103620.0  \n",
       "15                   20318    38918.0  \n",
       "16                   34525    67421.0  \n",
       "17                   60198   114409.0  \n",
       "18                   45004    89209.0  \n",
       "19                   17645    36014.0  \n",
       "20                   53276    98641.0  \n",
       "21                  453521   852827.0  \n",
       "22                     773     1476.0  \n",
       "23                  408225   800320.0  \n",
       "24                   53533    68460.0  \n",
       "25                   88925   177613.0  \n",
       "26                   77060   150677.0  \n",
       "27                   23140    45780.0  \n",
       "28                   87604   177432.0  \n",
       "29                   35182    73849.0  \n",
       "..                     ...        ...  \n",
       "247                   3030     5152.0  \n",
       "248                 270968   526979.0  \n",
       "249                  27887    56141.0  \n",
       "250                  26100    52194.0  \n",
       "251                   9298    19242.0  \n",
       "252                 190302   371300.0  \n",
       "253                   3419     6434.0  \n",
       "254                  33053    68005.0  \n",
       "255                   5953    11333.0  \n",
       "256                  70591   120310.0  \n",
       "257                 155065   290277.0  \n",
       "258                 223537   436421.0  \n",
       "259                 159034   316288.0  \n",
       "260                  39354    70238.0  \n",
       "261                   1172     2282.0  \n",
       "262                  40996    81205.0  \n",
       "263                 179524   348270.0  \n",
       "264                  15964    33562.0  \n",
       "265                      0        0.0  \n",
       "266                  58773   118837.0  \n",
       "267                      0        0.0  \n",
       "268                  64228   119459.0  \n",
       "269                  11182    22713.0  \n",
       "270                  40259    80902.0  \n",
       "271                      0        0.0  \n",
       "272                      0        0.0  \n",
       "273                   8808    17690.0  \n",
       "274                  14158    26743.0  \n",
       "275                  20491    39625.0  \n",
       "276                   1543     3219.0  \n",
       "\n",
       "[277 rows x 5 columns]"
      ]
     },
     "execution_count": 65,
     "metadata": {},
     "output_type": "execute_result"
    }
   ],
   "source": [
    "df_airlines['TOTAL'] = df_airlines['PASSENGERS TO INDIA'] + df_airlines['PASSENGERS FROM INDIA']\n",
    "df_airlines"
   ]
  },
  {
   "cell_type": "markdown",
   "metadata": {},
   "source": [
    "## Airlines with most passengers in 2015  "
   ]
  },
  {
   "cell_type": "code",
   "execution_count": 9,
   "metadata": {},
   "outputs": [
    {
     "data": {
      "image/png": "[encoded data removed]",
      "text/plain": [
       "<Figure size 720x360 with 1 Axes>"
      ]
     },
     "metadata": {
      "needs_background": "light"
     },
     "output_type": "display_data"
    }
   ],
   "source": [
    "df_airlines_y1 = df_airlines[df_airlines['YEAR'] == 2015].sort_values(by='TOTAL',ascending=False)[:20]\n",
    "df_y1_airlines_top10 =df_airlines_y1['TOTAL'].plot(kind='bar',figsize=(10,5))\n",
    "df_y1_airlines_top10.set_xticklabels(df_airlines_y1['AIRLINE NAME'])\n",
    "plt.show()"
   ]
  },
  {
   "cell_type": "markdown",
   "metadata": {},
   "source": [
    "## Airlines with most passengers in 2016"
   ]
  },
  {
   "cell_type": "code",
   "execution_count": 7,
   "metadata": {},
   "outputs": [
    {
     "data": {
      "image/png": "[encoded data removed]",
      "text/plain": [
       "<Figure size 720x360 with 1 Axes>"
      ]
     },
     "metadata": {
      "needs_background": "light"
     },
     "output_type": "display_data"
    }
   ],
   "source": [
    "df_airlines_y1 = df_airlines[df_airlines['YEAR'] == 2016].sort_values(by='TOTAL',ascending=False)[:20]\n",
    "df_y1_airlines_top10 =df_airlines_y1['TOTAL'].plot(kind='bar',figsize=(10,5))\n",
    "df_y1_airlines_top10.set_xticklabels(df_airlines_y1['AIRLINE NAME'])\n",
    "plt.show()"
   ]
  },
  {
   "cell_type": "markdown",
   "metadata": {},
   "source": [
    "## Airline with most traffic in 2017 "
   ]
  },
  {
   "cell_type": "code",
   "execution_count": 20,
   "metadata": {},
   "outputs": [
    {
     "data": {
      "image/png": "[encoded data removed]",
      "text/plain": [
       "<Figure size 720x360 with 1 Axes>"
      ]
     },
     "metadata": {
      "needs_background": "light"
     },
     "output_type": "display_data"
    }
   ],
   "source": [
    "df_airlines_y1 = df_airlines[df_airlines['YEAR'] == 2017].sort_values(by='TOTAL',ascending=False)[:20]\n",
    "df_y1_airlines_top10 =df_airlines_y1['TOTAL'].plot(kind='bar',figsize=(10,5))\n",
    "df_y1_airlines_top10.set_xticklabels(df_airlines_y1['AIRLINE NAME'])\n",
    "plt.show()"
   ]
  },
  {
   "cell_type": "markdown",
   "metadata": {},
   "source": [
    "1 ) JET Airways and AIR INDIA are the undisputed leaders in international flights\n",
    "2)  Emirates comes a close third. Top 4 operators make up 50 % of the total share.\n",
    "3)  The top 10 operators is dominated by middle east flight operators."
   ]
  },
  {
   "cell_type": "markdown",
   "metadata": {},
   "source": [
    "## Passenger traffic Quarterly & Monthly  "
   ]
  },
  {
   "cell_type": "code",
   "execution_count": 64,
   "metadata": {},
   "outputs": [
    {
     "data": {
      "text/plain": [
       "<matplotlib.axes._subplots.AxesSubplot at 0x128c8350>"
      ]
     },
     "execution_count": 64,
     "metadata": {},
     "output_type": "execute_result"
    },
    {
     "data": {
      "image/png": "[encoded data removed]",
      "text/plain": [
       "<Figure size 864x504 with 2 Axes>"
      ]
     },
     "metadata": {},
     "output_type": "display_data"
    }
   ],
   "source": [
    "fig, axes = plt.subplots(nrows=1, ncols=2)\n",
    "\n",
    "df_qtrly = air_df.groupby(['QUARTER'])['PASSENGERS TO INDIA', 'PASSENGERS FROM INDIA'].sum().reset_index()\n",
    "df_qtrly.plot(x='QUARTER', y=['PASSENGERS TO INDIA', 'PASSENGERS FROM INDIA'], kind='bar', ax=axes[0], figsize=(12, 7))\n",
    "\n",
    "df_monthly = air_df.groupby(['MONTH'])['PASSENGERS TO INDIA', 'PASSENGERS FROM INDIA'].sum().reset_index()\n",
    "df_monthly.plot(x='MONTH', y=['PASSENGERS TO INDIA', 'PASSENGERS FROM INDIA'], kind='bar', ax=axes[1], figsize=(12, 7))"
   ]
  },
  {
   "cell_type": "markdown",
   "metadata": {},
   "source": [
    "Q1 is the best quarter for Airline companies ."
   ]
  },
  {
   "cell_type": "markdown",
   "metadata": {},
   "source": [
    "## Airtraffic in Kerala (Airport wise) "
   ]
  },
  {
   "cell_type": "code",
   "execution_count": 173,
   "metadata": {},
   "outputs": [],
   "source": [
    "tvm_df = pd.read_csv(r\"C:\\Users\\GODFATHER\\Desktop\\Data Analytics\\Airport\\Citywise(2015-19).csv\")"
   ]
  },
  {
   "cell_type": "code",
   "execution_count": 174,
   "metadata": {},
   "outputs": [
    {
     "data": {
      "text/html": [
       "<div>\n",
       "<style scoped>\n",
       "    .dataframe tbody tr th:only-of-type {\n",
       "        vertical-align: middle;\n",
       "    }\n",
       "\n",
       "    .dataframe tbody tr th {\n",
       "        vertical-align: top;\n",
       "    }\n",
       "\n",
       "    .dataframe thead th {\n",
       "        text-align: right;\n",
       "    }\n",
       "</style>\n",
       "<table border=\"1\" class=\"dataframe\">\n",
       "  <thead>\n",
       "    <tr style=\"text-align: right;\">\n",
       "      <th></th>\n",
       "      <th>YEAR</th>\n",
       "      <th>QUARTER</th>\n",
       "      <th>CITY1</th>\n",
       "      <th>CITY2</th>\n",
       "      <th>PASSENGERS FROM CITY1 TO CITY2</th>\n",
       "      <th>PASSENGERS FROM CITY2 TO CITY1</th>\n",
       "      <th>FREIGHT FROM CITY1 TO CITY2</th>\n",
       "      <th>FREIGHT FROM CITY2 TO CITY1</th>\n",
       "    </tr>\n",
       "  </thead>\n",
       "  <tbody>\n",
       "    <tr>\n",
       "      <th>5536</th>\n",
       "      <td>2019</td>\n",
       "      <td>Q1</td>\n",
       "      <td>VIENNA</td>\n",
       "      <td>DELHI</td>\n",
       "      <td>10179</td>\n",
       "      <td>10463</td>\n",
       "      <td>234.9</td>\n",
       "      <td>121.4</td>\n",
       "    </tr>\n",
       "    <tr>\n",
       "      <th>5537</th>\n",
       "      <td>2019</td>\n",
       "      <td>Q1</td>\n",
       "      <td>WASHINGTON, DC</td>\n",
       "      <td>DELHI</td>\n",
       "      <td>7760</td>\n",
       "      <td>10803</td>\n",
       "      <td>161.0</td>\n",
       "      <td>113.7</td>\n",
       "    </tr>\n",
       "    <tr>\n",
       "      <th>5538</th>\n",
       "      <td>2019</td>\n",
       "      <td>Q1</td>\n",
       "      <td>WASHINGTON, DC</td>\n",
       "      <td>HYDERABAD</td>\n",
       "      <td>424</td>\n",
       "      <td>0</td>\n",
       "      <td>0.0</td>\n",
       "      <td>0.0</td>\n",
       "    </tr>\n",
       "    <tr>\n",
       "      <th>5539</th>\n",
       "      <td>2019</td>\n",
       "      <td>Q1</td>\n",
       "      <td>ZURICH</td>\n",
       "      <td>DELHI</td>\n",
       "      <td>16720</td>\n",
       "      <td>18561</td>\n",
       "      <td>929.6</td>\n",
       "      <td>1029.3</td>\n",
       "    </tr>\n",
       "    <tr>\n",
       "      <th>5540</th>\n",
       "      <td>2019</td>\n",
       "      <td>Q1</td>\n",
       "      <td>ZURICH</td>\n",
       "      <td>MUMBAI</td>\n",
       "      <td>13866</td>\n",
       "      <td>19096</td>\n",
       "      <td>1222.0</td>\n",
       "      <td>1451.9</td>\n",
       "    </tr>\n",
       "  </tbody>\n",
       "</table>\n",
       "</div>"
      ],
      "text/plain": [
       "      YEAR QUARTER           CITY1      CITY2  PASSENGERS FROM CITY1 TO CITY2  \\\n",
       "5536  2019      Q1          VIENNA      DELHI                           10179   \n",
       "5537  2019      Q1  WASHINGTON, DC      DELHI                            7760   \n",
       "5538  2019      Q1  WASHINGTON, DC  HYDERABAD                             424   \n",
       "5539  2019      Q1          ZURICH      DELHI                           16720   \n",
       "5540  2019      Q1          ZURICH     MUMBAI                           13866   \n",
       "\n",
       "      PASSENGERS FROM CITY2 TO CITY1  FREIGHT FROM CITY1 TO CITY2  \\\n",
       "5536                           10463                        234.9   \n",
       "5537                           10803                        161.0   \n",
       "5538                               0                          0.0   \n",
       "5539                           18561                        929.6   \n",
       "5540                           19096                       1222.0   \n",
       "\n",
       "      FREIGHT FROM CITY2 TO CITY1  \n",
       "5536                        121.4  \n",
       "5537                        113.7  \n",
       "5538                          0.0  \n",
       "5539                       1029.3  \n",
       "5540                       1451.9  "
      ]
     },
     "execution_count": 174,
     "metadata": {},
     "output_type": "execute_result"
    }
   ],
   "source": [
    "tvm_df.tail()"
   ]
  },
  {
   "cell_type": "code",
   "execution_count": 66,
   "metadata": {},
   "outputs": [],
   "source": [
    "#tvm = tvm_df.dropna(axis='columns')tvm_df[(tvm_df[\"YEAR\"]==2017) &(tvm_df[\"QUARTER\"]==\"Q2\")]"
   ]
  },
  {
   "cell_type": "markdown",
   "metadata": {},
   "source": [
    "# Trivandrum"
   ]
  },
  {
   "cell_type": "code",
   "execution_count": 176,
   "metadata": {},
   "outputs": [],
   "source": [
    "tvm_air = tvm_df[tvm_df[\"CITY2\"]==\"TRIVANDRUM\"]\n"
   ]
  },
  {
   "cell_type": "code",
   "execution_count": 177,
   "metadata": {},
   "outputs": [
    {
     "name": "stderr",
     "output_type": "stream",
     "text": [
      "C:\\Users\\GODFATHER\\Anaconda3\\lib\\site-packages\\ipykernel_launcher.py:1: SettingWithCopyWarning: \n",
      "A value is trying to be set on a copy of a slice from a DataFrame.\n",
      "Try using .loc[row_indexer,col_indexer] = value instead\n",
      "\n",
      "See the caveats in the documentation: http://pandas.pydata.org/pandas-docs/stable/indexing.html#indexing-view-versus-copy\n",
      "  \"\"\"Entry point for launching an IPython kernel.\n"
     ]
    }
   ],
   "source": [
    "tvm_air[\"Total\"] = tvm_df[\"PASSENGERS FROM CITY1 TO CITY2\"] + tvm_df[\"PASSENGERS FROM CITY2 TO CITY1\"] "
   ]
  },
  {
   "cell_type": "markdown",
   "metadata": {},
   "source": [
    "### Heatmap of passengers movement through Trivandrum Airport "
   ]
  },
  {
   "cell_type": "code",
   "execution_count": 179,
   "metadata": {},
   "outputs": [
    {
     "data": {
      "image/png": "[encoded data removed]",
      "text/plain": [
       "<Figure size 864x576 with 2 Axes>"
      ]
     },
     "metadata": {},
     "output_type": "display_data"
    }
   ],
   "source": [
    "TVM_qr = tvm_air.groupby([\"YEAR\",\"QUARTER\"])[\"Total\"].sum()\n",
    "TVM_qr = TVM_qr.reset_index()\n",
    "\n",
    "pivot_2 = TVM_qr.pivot_table(values=\"Total\",index=\"QUARTER\",columns=\"YEAR\", fill_value=0)\n",
    "pivot_2.index=[\"Q1\",\"Q2\",\"Q3\",\"Q4\"]\n",
    "\n",
    "sns.set(font_scale=0.8)\n",
    "fig = plt.figure(figsize=(12,8))\n",
    "g = sns.heatmap(pivot_2, annot=True, linewidths=.5, fmt=\"d\", square =True, vmin=2000, cmap=sns.cm.rocket_r)\n",
    "g.set_yticklabels(g.get_yticklabels(), rotation=0)\n",
    "plt.tight_layout()"
   ]
  },
  {
   "cell_type": "markdown",
   "metadata": {},
   "source": [
    "# Cochin"
   ]
  },
  {
   "cell_type": "code",
   "execution_count": 181,
   "metadata": {},
   "outputs": [],
   "source": [
    "koc_air = tvm_df[tvm_df[\"CITY2\"]==\"KOCHI\"]"
   ]
  },
  {
   "cell_type": "code",
   "execution_count": 182,
   "metadata": {},
   "outputs": [
    {
     "name": "stderr",
     "output_type": "stream",
     "text": [
      "C:\\Users\\GODFATHER\\Anaconda3\\lib\\site-packages\\ipykernel_launcher.py:1: SettingWithCopyWarning: \n",
      "A value is trying to be set on a copy of a slice from a DataFrame.\n",
      "Try using .loc[row_indexer,col_indexer] = value instead\n",
      "\n",
      "See the caveats in the documentation: http://pandas.pydata.org/pandas-docs/stable/indexing.html#indexing-view-versus-copy\n",
      "  \"\"\"Entry point for launching an IPython kernel.\n"
     ]
    }
   ],
   "source": [
    "koc_air[\"Total\"] = tvm_df[\"PASSENGERS FROM CITY1 TO CITY2\"] + tvm_df[\"PASSENGERS FROM CITY2 TO CITY1\"] "
   ]
  },
  {
   "cell_type": "markdown",
   "metadata": {},
   "source": [
    "### Heatmap of Passenger movement through Cochin Airport"
   ]
  },
  {
   "cell_type": "code",
   "execution_count": 183,
   "metadata": {},
   "outputs": [
    {
     "data": {
      "image/png": "[encoded data removed]",
      "text/plain": [
       "<Figure size 864x576 with 2 Axes>"
      ]
     },
     "metadata": {},
     "output_type": "display_data"
    }
   ],
   "source": [
    "KOC_qr = koc_air.groupby([\"YEAR\",\"QUARTER\"])[\"Total\"].sum()\n",
    "KOC_qr = KOC_qr.reset_index()\n",
    "\n",
    "pivot_2 = KOC_qr.pivot_table(values=\"Total\",index=\"QUARTER\",columns=\"YEAR\", fill_value=0)\n",
    "pivot_2.index=[\"Q1\",\"Q2\",\"Q3\",\"Q4\"]\n",
    "\n",
    "sns.set(font_scale=0.8)\n",
    "fig = plt.figure(figsize=(12,8))\n",
    "g = sns.heatmap(pivot_2, annot=True, linewidths=.5, fmt=\"d\", square =True, vmin=2000, cmap=sns.cm.rocket_r)\n",
    "g.set_yticklabels(g.get_yticklabels(), rotation=0)\n",
    "plt.tight_layout()"
   ]
  },
  {
   "cell_type": "code",
   "execution_count": null,
   "metadata": {},
   "outputs": [],
   "source": []
  },
  {
   "cell_type": "markdown",
   "metadata": {},
   "source": [
    "# KOZHIKODE"
   ]
  },
  {
   "cell_type": "code",
   "execution_count": 184,
   "metadata": {},
   "outputs": [],
   "source": [
    "cal_air = tvm_df[tvm_df[\"CITY2\"]==\"KOZHIKODE\"]"
   ]
  },
  {
   "cell_type": "code",
   "execution_count": 185,
   "metadata": {},
   "outputs": [
    {
     "name": "stderr",
     "output_type": "stream",
     "text": [
      "C:\\Users\\GODFATHER\\Anaconda3\\lib\\site-packages\\ipykernel_launcher.py:1: SettingWithCopyWarning: \n",
      "A value is trying to be set on a copy of a slice from a DataFrame.\n",
      "Try using .loc[row_indexer,col_indexer] = value instead\n",
      "\n",
      "See the caveats in the documentation: http://pandas.pydata.org/pandas-docs/stable/indexing.html#indexing-view-versus-copy\n",
      "  \"\"\"Entry point for launching an IPython kernel.\n"
     ]
    }
   ],
   "source": [
    "cal_air[\"Total\"] = tvm_df[\"PASSENGERS FROM CITY1 TO CITY2\"] + tvm_df[\"PASSENGERS FROM CITY2 TO CITY1\"] "
   ]
  },
  {
   "cell_type": "markdown",
   "metadata": {},
   "source": [
    "### Heatmap of passenger movement through Kozhikode Airport"
   ]
  },
  {
   "cell_type": "code",
   "execution_count": 186,
   "metadata": {},
   "outputs": [
    {
     "data": {
      "image/png": "[encoded data removed]",
      "text/plain": [
       "<Figure size 864x576 with 2 Axes>"
      ]
     },
     "metadata": {},
     "output_type": "display_data"
    }
   ],
   "source": [
    "CAL_qr = cal_air.groupby([\"YEAR\",\"QUARTER\"])[\"Total\"].sum()\n",
    "CAL_qr = CAL_qr.reset_index()\n",
    "\n",
    "pivot_2 = CAL_qr.pivot_table(values=\"Total\",index=\"QUARTER\",columns=\"YEAR\", fill_value=0)\n",
    "pivot_2.index=[\"Q1\",\"Q2\",\"Q3\",\"Q4\"]\n",
    "\n",
    "sns.set(font_scale=0.8)\n",
    "fig = plt.figure(figsize=(12,8))\n",
    "g = sns.heatmap(pivot_2, annot=True, linewidths=.5, fmt=\"d\", square =True, vmin=2000, cmap=sns.cm.rocket_r)\n",
    "g.set_yticklabels(g.get_yticklabels(), rotation=0)\n",
    "plt.tight_layout()"
   ]
  },
  {
   "cell_type": "code",
   "execution_count": 143,
   "metadata": {},
   "outputs": [],
   "source": []
  },
  {
   "cell_type": "markdown",
   "metadata": {},
   "source": [
    "# Kannur"
   ]
  },
  {
   "cell_type": "code",
   "execution_count": 189,
   "metadata": {},
   "outputs": [
    {
     "name": "stderr",
     "output_type": "stream",
     "text": [
      "C:\\Users\\GODFATHER\\Anaconda3\\lib\\site-packages\\ipykernel_launcher.py:2: SettingWithCopyWarning: \n",
      "A value is trying to be set on a copy of a slice from a DataFrame.\n",
      "Try using .loc[row_indexer,col_indexer] = value instead\n",
      "\n",
      "See the caveats in the documentation: http://pandas.pydata.org/pandas-docs/stable/indexing.html#indexing-view-versus-copy\n",
      "  \n"
     ]
    }
   ],
   "source": [
    "kan_air = tvm_df[tvm_df[\"CITY2\"]==\"KANNUR\"]\n",
    "kan_air[\"Total\"] = tvm_df[\"PASSENGERS FROM CITY1 TO CITY2\"] + tvm_df[\"PASSENGERS FROM CITY2 TO CITY1\"] "
   ]
  },
  {
   "cell_type": "markdown",
   "metadata": {},
   "source": [
    "### Heatmap of passenger movement through Kannur Airport"
   ]
  },
  {
   "cell_type": "code",
   "execution_count": 191,
   "metadata": {},
   "outputs": [
    {
     "data": {
      "image/png": "[encoded data removed]",
      "text/plain": [
       "<Figure size 864x576 with 2 Axes>"
      ]
     },
     "metadata": {},
     "output_type": "display_data"
    }
   ],
   "source": [
    "KAN_qr = kan_air.groupby([\"YEAR\",\"QUARTER\"])[\"Total\"].sum()\n",
    "KAN_qr = KAN_qr.reset_index()\n",
    "\n",
    "pivot_2 = KAN_qr.pivot_table(values=\"Total\",index=\"QUARTER\",columns=\"YEAR\", fill_value=0)\n",
    "pivot_2.index=[\"Q1\",\"Q4\"]\n",
    "\n",
    "sns.set(font_scale=0.8)\n",
    "fig = plt.figure(figsize=(12,8))\n",
    "g = sns.heatmap(pivot_2, annot=True, linewidths=.5, fmt=\"d\", square =True, vmin=2000, cmap=sns.cm.rocket_r)\n",
    "g.set_yticklabels(g.get_yticklabels(), rotation=0)\n",
    "plt.tight_layout()"
   ]
  },
  {
   "cell_type": "markdown",
   "metadata": {},
   "source": [
    "##### Kannur Airport was opened at the end of 2018 ."
   ]
  },
  {
   "cell_type": "markdown",
   "metadata": {},
   "source": [
    "### Line Graph of Airtraffic through three Airports in Kerala"
   ]
  },
  {
   "cell_type": "code",
   "execution_count": 48,
   "metadata": {},
   "outputs": [
    {
     "data": {
      "text/plain": [
       "{'Year': ['2015', '2016', '2017', '2018', '2019'],\n",
       " 'Trivandrum': ['2152451', '2228425', '2375242', '2483792', '569188'],\n",
       " 'KOCHI': ['4010154', '4571247', '4825935', '4503781', '1087347'],\n",
       " 'CALICUT': ['2050142', '2201274', '2532471', '2697808', '697892']}"
      ]
     },
     "execution_count": 48,
     "metadata": {},
     "output_type": "execute_result"
    }
   ],
   "source": [
    "yearly_data"
   ]
  },
  {
   "cell_type": "code",
   "execution_count": 49,
   "metadata": {},
   "outputs": [
    {
     "data": {
      "text/html": [
       "<div>\n",
       "<style scoped>\n",
       "    .dataframe tbody tr th:only-of-type {\n",
       "        vertical-align: middle;\n",
       "    }\n",
       "\n",
       "    .dataframe tbody tr th {\n",
       "        vertical-align: top;\n",
       "    }\n",
       "\n",
       "    .dataframe thead th {\n",
       "        text-align: right;\n",
       "    }\n",
       "</style>\n",
       "<table border=\"1\" class=\"dataframe\">\n",
       "  <thead>\n",
       "    <tr style=\"text-align: right;\">\n",
       "      <th></th>\n",
       "      <th>Year</th>\n",
       "      <th>Trivandrum</th>\n",
       "      <th>KOCHI</th>\n",
       "      <th>CALICUT</th>\n",
       "    </tr>\n",
       "  </thead>\n",
       "  <tbody>\n",
       "    <tr>\n",
       "      <th>0</th>\n",
       "      <td>2015</td>\n",
       "      <td>2152451</td>\n",
       "      <td>4010154</td>\n",
       "      <td>2050142</td>\n",
       "    </tr>\n",
       "    <tr>\n",
       "      <th>1</th>\n",
       "      <td>2016</td>\n",
       "      <td>2228425</td>\n",
       "      <td>4571247</td>\n",
       "      <td>2201274</td>\n",
       "    </tr>\n",
       "    <tr>\n",
       "      <th>2</th>\n",
       "      <td>2017</td>\n",
       "      <td>2375242</td>\n",
       "      <td>4825935</td>\n",
       "      <td>2532471</td>\n",
       "    </tr>\n",
       "    <tr>\n",
       "      <th>3</th>\n",
       "      <td>2018</td>\n",
       "      <td>2483792</td>\n",
       "      <td>4503781</td>\n",
       "      <td>2697808</td>\n",
       "    </tr>\n",
       "    <tr>\n",
       "      <th>4</th>\n",
       "      <td>2019</td>\n",
       "      <td>569188</td>\n",
       "      <td>1087347</td>\n",
       "      <td>697892</td>\n",
       "    </tr>\n",
       "  </tbody>\n",
       "</table>\n",
       "</div>"
      ],
      "text/plain": [
       "   Year Trivandrum    KOCHI  CALICUT\n",
       "0  2015    2152451  4010154  2050142\n",
       "1  2016    2228425  4571247  2201274\n",
       "2  2017    2375242  4825935  2532471\n",
       "3  2018    2483792  4503781  2697808\n",
       "4  2019     569188  1087347   697892"
      ]
     },
     "execution_count": 49,
     "metadata": {},
     "output_type": "execute_result"
    }
   ],
   "source": [
    "yearly_df"
   ]
  },
  {
   "cell_type": "code",
   "execution_count": 51,
   "metadata": {},
   "outputs": [],
   "source": [
    "yearly_df=yearly_df.astype(int)"
   ]
  },
  {
   "cell_type": "code",
   "execution_count": 70,
   "metadata": {},
   "outputs": [
    {
     "data": {
      "text/plain": [
       "<matplotlib.axes._subplots.AxesSubplot at 0x12986930>"
      ]
     },
     "execution_count": 70,
     "metadata": {},
     "output_type": "execute_result"
    },
    {
     "data": {
      "image/png": "[encoded data removed]",
      "text/plain": [
       "<Figure size 720x360 with 1 Axes>"
      ]
     },
     "metadata": {},
     "output_type": "display_data"
    }
   ],
   "source": [
    "yearly_df.plot(x='Year', y=['Trivandrum', 'KOCHI',\"CALICUT\"],title=\"Airport Traffic in Kerala\", figsize=(10,5), grid=True)"
   ]
  },
  {
   "cell_type": "markdown",
   "metadata": {},
   "source": [
    "Eventhough there is a slight decline after 2017,Kochi Airport is the busiest Airpot in Kerala.Followed by Calicut(Kozhikode). Calicut becomes second busiest Airport in Kerala after 2016. (Data upto 2019 first quarter.)"
   ]
  },
  {
   "cell_type": "code",
   "execution_count": null,
   "metadata": {},
   "outputs": [],
   "source": []
  }
 ],
 "metadata": {
  "kernelspec": {
   "display_name": "Python 3",
   "language": "python",
   "name": "python3"
  },
  "language_info": {
   "codemirror_mode": {
    "name": "ipython",
    "version": 3
   },
   "file_extension": ".py",
   "mimetype": "text/x-python",
   "name": "python",
   "nbconvert_exporter": "python",
   "pygments_lexer": "ipython3",
   "version": "3.7.1"
  }
 },
 "nbformat": 4,
 "nbformat_minor": 2
}
